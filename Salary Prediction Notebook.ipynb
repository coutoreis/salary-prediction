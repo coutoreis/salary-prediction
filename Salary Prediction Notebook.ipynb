{
 "cells": [
  {
   "cell_type": "markdown",
   "metadata": {},
   "source": [
    "# Salary Predictions Based on Job Descriptions"
   ]
  },
  {
   "cell_type": "code",
   "execution_count": 1,
   "metadata": {},
   "outputs": [],
   "source": [
    "__author__ = \"Thiago do Couto\""
   ]
  },
  {
   "cell_type": "markdown",
   "metadata": {},
   "source": [
    "# PROBLEM DEFINITION"
   ]
  },
  {
   "cell_type": "markdown",
   "metadata": {},
   "source": [
    "### The objective is to predict salary based on job descriptions."
   ]
  },
  {
   "cell_type": "markdown",
   "metadata": {},
   "source": [
    "## DISCOVER"
   ]
  },
  {
   "cell_type": "markdown",
   "metadata": {},
   "source": [
    "### Load libraries"
   ]
  },
  {
   "cell_type": "code",
   "execution_count": 2,
   "metadata": {},
   "outputs": [],
   "source": [
    "# Data Manipulation Libraries\n",
    "import pandas as pd\n",
    "import numpy as np\n",
    "import pandas_profiling as pp\n",
    "\n",
    "# Data Visualization Libraries\n",
    "import seaborn as sns\n",
    "import matplotlib.pyplot as plt\n",
    "%matplotlib inline\n",
    "\n",
    "# Modeling libraries\n",
    "from sklearn.linear_model import LinearRegression, LogisticRegression\n",
    "from sklearn.ensemble import RandomForestRegressor\n",
    "from sklearn.tree import DecisionTreeRegressor\n",
    "from sklearn.model_selection import train_test_split, cross_val_score\n",
    "from sklearn.metrics import mean_squared_error\n",
    "\n",
    "# Allow multiple outputs\n",
    "from IPython.core.interactiveshell import InteractiveShell\n",
    "InteractiveShell.ast_node_interactivity = 'all'\n",
    "\n",
    "# Supress warnings\n",
    "import warnings\n",
    "warnings.filterwarnings('ignore')"
   ]
  },
  {
   "cell_type": "code",
   "execution_count": 3,
   "metadata": {},
   "outputs": [],
   "source": [
    "def DistributionPlot(RedFunction, BlueFunction, RedName, BlueName, title):\n",
    "    width = 10\n",
    "    height=6\n",
    "    plt.figure(figsize=(width, height))\n",
    "    \n",
    "    ax1=sns.distplot(RedFunction, hist=False, color=\"r\", label=RedName)\n",
    "    ax2=sns.distplot(BlueFunction, hist=False, color=\"b\", label=BlueName)\n",
    "    \n",
    "    plt.title(title)\n",
    "    plt.xlabel(\"Proportion of Jobs\")\n",
    "    plt.ylabel(\"Salary (in thousand dollars)\")\n",
    "    plt.show()\n",
    "    plt.close()"
   ]
  },
  {
   "cell_type": "markdown",
   "metadata": {},
   "source": [
    "### Load the data"
   ]
  },
  {
   "cell_type": "code",
   "execution_count": 4,
   "metadata": {},
   "outputs": [
    {
     "data": {
      "text/html": [
       "<div>\n",
       "<style scoped>\n",
       "    .dataframe tbody tr th:only-of-type {\n",
       "        vertical-align: middle;\n",
       "    }\n",
       "\n",
       "    .dataframe tbody tr th {\n",
       "        vertical-align: top;\n",
       "    }\n",
       "\n",
       "    .dataframe thead th {\n",
       "        text-align: right;\n",
       "    }\n",
       "</style>\n",
       "<table border=\"1\" class=\"dataframe\">\n",
       "  <thead>\n",
       "    <tr style=\"text-align: right;\">\n",
       "      <th></th>\n",
       "      <th>jobId</th>\n",
       "      <th>companyId</th>\n",
       "      <th>jobType</th>\n",
       "      <th>degree</th>\n",
       "      <th>major</th>\n",
       "      <th>industry</th>\n",
       "      <th>yearsExperience</th>\n",
       "      <th>milesFromMetropolis</th>\n",
       "      <th>salary</th>\n",
       "    </tr>\n",
       "  </thead>\n",
       "  <tbody>\n",
       "    <tr>\n",
       "      <th>0</th>\n",
       "      <td>JOB1362684407687</td>\n",
       "      <td>COMP37</td>\n",
       "      <td>CFO</td>\n",
       "      <td>MASTERS</td>\n",
       "      <td>MATH</td>\n",
       "      <td>HEALTH</td>\n",
       "      <td>10</td>\n",
       "      <td>83</td>\n",
       "      <td>130</td>\n",
       "    </tr>\n",
       "    <tr>\n",
       "      <th>1</th>\n",
       "      <td>JOB1362684407688</td>\n",
       "      <td>COMP19</td>\n",
       "      <td>CEO</td>\n",
       "      <td>HIGH_SCHOOL</td>\n",
       "      <td>NONE</td>\n",
       "      <td>WEB</td>\n",
       "      <td>3</td>\n",
       "      <td>73</td>\n",
       "      <td>101</td>\n",
       "    </tr>\n",
       "    <tr>\n",
       "      <th>2</th>\n",
       "      <td>JOB1362684407689</td>\n",
       "      <td>COMP52</td>\n",
       "      <td>VICE_PRESIDENT</td>\n",
       "      <td>DOCTORAL</td>\n",
       "      <td>PHYSICS</td>\n",
       "      <td>HEALTH</td>\n",
       "      <td>10</td>\n",
       "      <td>38</td>\n",
       "      <td>137</td>\n",
       "    </tr>\n",
       "  </tbody>\n",
       "</table>\n",
       "</div>"
      ],
      "text/plain": [
       "              jobId companyId         jobType       degree    major industry  \\\n",
       "0  JOB1362684407687    COMP37             CFO      MASTERS     MATH   HEALTH   \n",
       "1  JOB1362684407688    COMP19             CEO  HIGH_SCHOOL     NONE      WEB   \n",
       "2  JOB1362684407689    COMP52  VICE_PRESIDENT     DOCTORAL  PHYSICS   HEALTH   \n",
       "\n",
       "   yearsExperience  milesFromMetropolis  salary  \n",
       "0               10                   83     130  \n",
       "1                3                   73     101  \n",
       "2               10                   38     137  "
      ]
     },
     "execution_count": 4,
     "metadata": {},
     "output_type": "execute_result"
    }
   ],
   "source": [
    "# Load data into Pandas Dataframe\n",
    "df_train_feat = pd.read_csv('data/train_features.csv')\n",
    "df_train_salaries = pd.read_csv('data/train_salaries.csv')\n",
    "df_test_feat = pd.read_csv('data/test_features.csv')\n",
    "\n",
    "# Join dataframes\n",
    "df = df_train_feat.join(df_train_salaries.set_index('jobId'), on = 'jobId')\n",
    "df.head(3)"
   ]
  },
  {
   "cell_type": "markdown",
   "metadata": {},
   "source": [
    "### Clean the data"
   ]
  },
  {
   "cell_type": "markdown",
   "metadata": {},
   "source": [
    "First we'll check for dataframe consistency."
   ]
  },
  {
   "cell_type": "code",
   "execution_count": 5,
   "metadata": {},
   "outputs": [
    {
     "name": "stdout",
     "output_type": "stream",
     "text": [
      "1 - Check for column types:\n",
      "jobId                  object\n",
      "companyId              object\n",
      "jobType                object\n",
      "degree                 object\n",
      "major                  object\n",
      "industry               object\n",
      "yearsExperience         int64\n",
      "milesFromMetropolis     int64\n",
      "salary                  int64\n",
      "dtype: object\n",
      "\n",
      "2 - Is there any duplicated row?  False\n",
      "\n",
      "3 - How many negative values exists in each numeric column?\n",
      "Column yearsExperience : 0\n",
      "Column milesFromMetropolis : 0\n",
      "Column salary : 0\n",
      "\n",
      "4 - How many zeroes exists in each numeric column?\n",
      "Column yearsExperience : 39839\n",
      "Column milesFromMetropolis : 10123\n",
      "Column salary : 5\n",
      "\n",
      "5 - Check for NaNs in each attribute:\n",
      "jobId                  False\n",
      "companyId              False\n",
      "jobType                False\n",
      "degree                 False\n",
      "major                  False\n",
      "industry               False\n",
      "yearsExperience        False\n",
      "milesFromMetropolis    False\n",
      "salary                 False\n",
      "dtype: bool\n",
      "\n",
      "6 - Check null values in each attribute:\n",
      "jobId                  False\n",
      "companyId              False\n",
      "jobType                False\n",
      "degree                 False\n",
      "major                  False\n",
      "industry               False\n",
      "yearsExperience        False\n",
      "milesFromMetropolis    False\n",
      "salary                 False\n",
      "dtype: bool\n"
     ]
    }
   ],
   "source": [
    "# Define array for numeric columns loops\n",
    "intcolumns = ['yearsExperience','milesFromMetropolis','salary']\n",
    "\n",
    "# Check for column types\n",
    "print('1 - Check for column types:')\n",
    "print(df.dtypes)\n",
    "\n",
    "# Look for duplicates\n",
    "print('\\n2 - Is there any duplicated row? ', df.duplicated().any())\n",
    "\n",
    "# Look for negative values in numeric data\n",
    "print('\\n3 - How many negative values exists in each numeric column?')\n",
    "for check in intcolumns:\n",
    "    print('Column', check, ':', (df[check] < 0).sum())\n",
    "\n",
    "# Look for zeroes in numeric data\n",
    "print('\\n4 - How many zeroes exists in each numeric column?')\n",
    "for check in intcolumns:\n",
    "    print('Column', check, ':', (df[check] == 0).sum())\n",
    "\n",
    "# Look for NaNs\n",
    "print('\\n5 - Check for NaNs in each attribute:')\n",
    "print(df.isna().any())\n",
    "\n",
    "# Look for null values\n",
    "print('\\n6 - Check null values in each attribute:')\n",
    "print(df.isnull().any())"
   ]
  },
  {
   "cell_type": "markdown",
   "metadata": {},
   "source": [
    "Now we'll execute data cleaning."
   ]
  },
  {
   "cell_type": "code",
   "execution_count": 6,
   "metadata": {},
   "outputs": [
    {
     "data": {
      "text/html": [
       "\n",
       "        <iframe\n",
       "            width=\"100%\"\n",
       "            height=\"800px\"\n",
       "            src=\"ipynb_tmp/profile_2581423476.html\"\n",
       "            frameborder=\"0\"\n",
       "            allowfullscreen\n",
       "        ></iframe>\n",
       "        "
      ],
      "text/plain": [
       "<IPython.lib.display.IFrame at 0x7f59b44956d8>"
      ]
     },
     "metadata": {},
     "output_type": "display_data"
    },
    {
     "data": {
      "text/plain": []
     },
     "execution_count": 6,
     "metadata": {},
     "output_type": "execute_result"
    }
   ],
   "source": [
    "df.profile_report()"
   ]
  },
  {
   "cell_type": "code",
   "execution_count": 7,
   "metadata": {},
   "outputs": [],
   "source": [
    "# As there were only 5 entries (< 0,05%) with 'salary' == 0, those observations will be removed from the dataset\n",
    "df.drop(df[df['salary'] == 0].index, inplace = True)"
   ]
  },
  {
   "cell_type": "markdown",
   "metadata": {},
   "source": [
    "#### The 'milesFromMetropolis' and 'yearsExperience' attributes may have ZEROES\n",
    "#### E.g.: The person lives at the metropolis and is a novice."
   ]
  },
  {
   "cell_type": "code",
   "execution_count": 8,
   "metadata": {},
   "outputs": [],
   "source": [
    "# We'll drop unecessary columns as they are or unique or doesn't help us to build the model\n",
    "df.drop('jobId', axis=1, inplace=True)\n",
    "df.drop('companyId', axis=1, inplace=True)"
   ]
  },
  {
   "cell_type": "markdown",
   "metadata": {},
   "source": [
    "### Explore the data (EDA)"
   ]
  },
  {
   "cell_type": "code",
   "execution_count": 9,
   "metadata": {},
   "outputs": [
    {
     "data": {
      "text/html": [
       "<div>\n",
       "<style scoped>\n",
       "    .dataframe tbody tr th:only-of-type {\n",
       "        vertical-align: middle;\n",
       "    }\n",
       "\n",
       "    .dataframe tbody tr th {\n",
       "        vertical-align: top;\n",
       "    }\n",
       "\n",
       "    .dataframe thead th {\n",
       "        text-align: right;\n",
       "    }\n",
       "</style>\n",
       "<table border=\"1\" class=\"dataframe\">\n",
       "  <thead>\n",
       "    <tr style=\"text-align: right;\">\n",
       "      <th></th>\n",
       "      <th>yearsExperience</th>\n",
       "      <th>milesFromMetropolis</th>\n",
       "      <th>salary</th>\n",
       "    </tr>\n",
       "  </thead>\n",
       "  <tbody>\n",
       "    <tr>\n",
       "      <th>count</th>\n",
       "      <td>999995.000000</td>\n",
       "      <td>999995.000000</td>\n",
       "      <td>999995.000000</td>\n",
       "    </tr>\n",
       "    <tr>\n",
       "      <th>mean</th>\n",
       "      <td>11.992407</td>\n",
       "      <td>49.529381</td>\n",
       "      <td>116.062398</td>\n",
       "    </tr>\n",
       "    <tr>\n",
       "      <th>std</th>\n",
       "      <td>7.212390</td>\n",
       "      <td>28.877721</td>\n",
       "      <td>38.717163</td>\n",
       "    </tr>\n",
       "    <tr>\n",
       "      <th>min</th>\n",
       "      <td>0.000000</td>\n",
       "      <td>0.000000</td>\n",
       "      <td>17.000000</td>\n",
       "    </tr>\n",
       "    <tr>\n",
       "      <th>25%</th>\n",
       "      <td>6.000000</td>\n",
       "      <td>25.000000</td>\n",
       "      <td>88.000000</td>\n",
       "    </tr>\n",
       "    <tr>\n",
       "      <th>50%</th>\n",
       "      <td>12.000000</td>\n",
       "      <td>50.000000</td>\n",
       "      <td>114.000000</td>\n",
       "    </tr>\n",
       "    <tr>\n",
       "      <th>75%</th>\n",
       "      <td>18.000000</td>\n",
       "      <td>75.000000</td>\n",
       "      <td>141.000000</td>\n",
       "    </tr>\n",
       "    <tr>\n",
       "      <th>max</th>\n",
       "      <td>24.000000</td>\n",
       "      <td>99.000000</td>\n",
       "      <td>301.000000</td>\n",
       "    </tr>\n",
       "  </tbody>\n",
       "</table>\n",
       "</div>"
      ],
      "text/plain": [
       "       yearsExperience  milesFromMetropolis         salary\n",
       "count    999995.000000        999995.000000  999995.000000\n",
       "mean         11.992407            49.529381     116.062398\n",
       "std           7.212390            28.877721      38.717163\n",
       "min           0.000000             0.000000      17.000000\n",
       "25%           6.000000            25.000000      88.000000\n",
       "50%          12.000000            50.000000     114.000000\n",
       "75%          18.000000            75.000000     141.000000\n",
       "max          24.000000            99.000000     301.000000"
      ]
     },
     "execution_count": 9,
     "metadata": {},
     "output_type": "execute_result"
    },
    {
     "data": {
      "text/html": [
       "<div>\n",
       "<style scoped>\n",
       "    .dataframe tbody tr th:only-of-type {\n",
       "        vertical-align: middle;\n",
       "    }\n",
       "\n",
       "    .dataframe tbody tr th {\n",
       "        vertical-align: top;\n",
       "    }\n",
       "\n",
       "    .dataframe thead th {\n",
       "        text-align: right;\n",
       "    }\n",
       "</style>\n",
       "<table border=\"1\" class=\"dataframe\">\n",
       "  <thead>\n",
       "    <tr style=\"text-align: right;\">\n",
       "      <th></th>\n",
       "      <th>jobType</th>\n",
       "    </tr>\n",
       "  </thead>\n",
       "  <tbody>\n",
       "    <tr>\n",
       "      <th>SENIOR</th>\n",
       "      <td>125886</td>\n",
       "    </tr>\n",
       "    <tr>\n",
       "      <th>VICE_PRESIDENT</th>\n",
       "      <td>125234</td>\n",
       "    </tr>\n",
       "    <tr>\n",
       "      <th>MANAGER</th>\n",
       "      <td>125120</td>\n",
       "    </tr>\n",
       "    <tr>\n",
       "      <th>CTO</th>\n",
       "      <td>125045</td>\n",
       "    </tr>\n",
       "    <tr>\n",
       "      <th>JANITOR</th>\n",
       "      <td>124971</td>\n",
       "    </tr>\n",
       "    <tr>\n",
       "      <th>CEO</th>\n",
       "      <td>124778</td>\n",
       "    </tr>\n",
       "    <tr>\n",
       "      <th>JUNIOR</th>\n",
       "      <td>124592</td>\n",
       "    </tr>\n",
       "    <tr>\n",
       "      <th>CFO</th>\n",
       "      <td>124369</td>\n",
       "    </tr>\n",
       "  </tbody>\n",
       "</table>\n",
       "</div>"
      ],
      "text/plain": [
       "                jobType\n",
       "SENIOR           125886\n",
       "VICE_PRESIDENT   125234\n",
       "MANAGER          125120\n",
       "CTO              125045\n",
       "JANITOR          124971\n",
       "CEO              124778\n",
       "JUNIOR           124592\n",
       "CFO              124369"
      ]
     },
     "execution_count": 9,
     "metadata": {},
     "output_type": "execute_result"
    },
    {
     "data": {
      "text/html": [
       "<div>\n",
       "<style scoped>\n",
       "    .dataframe tbody tr th:only-of-type {\n",
       "        vertical-align: middle;\n",
       "    }\n",
       "\n",
       "    .dataframe tbody tr th {\n",
       "        vertical-align: top;\n",
       "    }\n",
       "\n",
       "    .dataframe thead th {\n",
       "        text-align: right;\n",
       "    }\n",
       "</style>\n",
       "<table border=\"1\" class=\"dataframe\">\n",
       "  <thead>\n",
       "    <tr style=\"text-align: right;\">\n",
       "      <th></th>\n",
       "      <th>degree</th>\n",
       "    </tr>\n",
       "  </thead>\n",
       "  <tbody>\n",
       "    <tr>\n",
       "      <th>HIGH_SCHOOL</th>\n",
       "      <td>236975</td>\n",
       "    </tr>\n",
       "    <tr>\n",
       "      <th>NONE</th>\n",
       "      <td>236853</td>\n",
       "    </tr>\n",
       "    <tr>\n",
       "      <th>BACHELORS</th>\n",
       "      <td>175495</td>\n",
       "    </tr>\n",
       "    <tr>\n",
       "      <th>DOCTORAL</th>\n",
       "      <td>175362</td>\n",
       "    </tr>\n",
       "    <tr>\n",
       "      <th>MASTERS</th>\n",
       "      <td>175310</td>\n",
       "    </tr>\n",
       "  </tbody>\n",
       "</table>\n",
       "</div>"
      ],
      "text/plain": [
       "             degree\n",
       "HIGH_SCHOOL  236975\n",
       "NONE         236853\n",
       "BACHELORS    175495\n",
       "DOCTORAL     175362\n",
       "MASTERS      175310"
      ]
     },
     "execution_count": 9,
     "metadata": {},
     "output_type": "execute_result"
    },
    {
     "data": {
      "text/html": [
       "<div>\n",
       "<style scoped>\n",
       "    .dataframe tbody tr th:only-of-type {\n",
       "        vertical-align: middle;\n",
       "    }\n",
       "\n",
       "    .dataframe tbody tr th {\n",
       "        vertical-align: top;\n",
       "    }\n",
       "\n",
       "    .dataframe thead th {\n",
       "        text-align: right;\n",
       "    }\n",
       "</style>\n",
       "<table border=\"1\" class=\"dataframe\">\n",
       "  <thead>\n",
       "    <tr style=\"text-align: right;\">\n",
       "      <th></th>\n",
       "      <th>major</th>\n",
       "    </tr>\n",
       "  </thead>\n",
       "  <tbody>\n",
       "    <tr>\n",
       "      <th>NONE</th>\n",
       "      <td>532353</td>\n",
       "    </tr>\n",
       "    <tr>\n",
       "      <th>CHEMISTRY</th>\n",
       "      <td>58875</td>\n",
       "    </tr>\n",
       "    <tr>\n",
       "      <th>LITERATURE</th>\n",
       "      <td>58684</td>\n",
       "    </tr>\n",
       "    <tr>\n",
       "      <th>ENGINEERING</th>\n",
       "      <td>58594</td>\n",
       "    </tr>\n",
       "    <tr>\n",
       "      <th>BUSINESS</th>\n",
       "      <td>58518</td>\n",
       "    </tr>\n",
       "    <tr>\n",
       "      <th>PHYSICS</th>\n",
       "      <td>58410</td>\n",
       "    </tr>\n",
       "    <tr>\n",
       "      <th>COMPSCI</th>\n",
       "      <td>58382</td>\n",
       "    </tr>\n",
       "    <tr>\n",
       "      <th>BIOLOGY</th>\n",
       "      <td>58379</td>\n",
       "    </tr>\n",
       "    <tr>\n",
       "      <th>MATH</th>\n",
       "      <td>57800</td>\n",
       "    </tr>\n",
       "  </tbody>\n",
       "</table>\n",
       "</div>"
      ],
      "text/plain": [
       "              major\n",
       "NONE         532353\n",
       "CHEMISTRY     58875\n",
       "LITERATURE    58684\n",
       "ENGINEERING   58594\n",
       "BUSINESS      58518\n",
       "PHYSICS       58410\n",
       "COMPSCI       58382\n",
       "BIOLOGY       58379\n",
       "MATH          57800"
      ]
     },
     "execution_count": 9,
     "metadata": {},
     "output_type": "execute_result"
    },
    {
     "data": {
      "text/html": [
       "<div>\n",
       "<style scoped>\n",
       "    .dataframe tbody tr th:only-of-type {\n",
       "        vertical-align: middle;\n",
       "    }\n",
       "\n",
       "    .dataframe tbody tr th {\n",
       "        vertical-align: top;\n",
       "    }\n",
       "\n",
       "    .dataframe thead th {\n",
       "        text-align: right;\n",
       "    }\n",
       "</style>\n",
       "<table border=\"1\" class=\"dataframe\">\n",
       "  <thead>\n",
       "    <tr style=\"text-align: right;\">\n",
       "      <th></th>\n",
       "      <th>industry</th>\n",
       "    </tr>\n",
       "  </thead>\n",
       "  <tbody>\n",
       "    <tr>\n",
       "      <th>WEB</th>\n",
       "      <td>143205</td>\n",
       "    </tr>\n",
       "    <tr>\n",
       "      <th>AUTO</th>\n",
       "      <td>142941</td>\n",
       "    </tr>\n",
       "    <tr>\n",
       "      <th>FINANCE</th>\n",
       "      <td>142866</td>\n",
       "    </tr>\n",
       "    <tr>\n",
       "      <th>EDUCATION</th>\n",
       "      <td>142819</td>\n",
       "    </tr>\n",
       "    <tr>\n",
       "      <th>OIL</th>\n",
       "      <td>142770</td>\n",
       "    </tr>\n",
       "    <tr>\n",
       "      <th>HEALTH</th>\n",
       "      <td>142755</td>\n",
       "    </tr>\n",
       "    <tr>\n",
       "      <th>SERVICE</th>\n",
       "      <td>142639</td>\n",
       "    </tr>\n",
       "  </tbody>\n",
       "</table>\n",
       "</div>"
      ],
      "text/plain": [
       "           industry\n",
       "WEB          143205\n",
       "AUTO         142941\n",
       "FINANCE      142866\n",
       "EDUCATION    142819\n",
       "OIL          142770\n",
       "HEALTH       142755\n",
       "SERVICE      142639"
      ]
     },
     "execution_count": 9,
     "metadata": {},
     "output_type": "execute_result"
    }
   ],
   "source": [
    "# Check for numeric summary of the dataframe\n",
    "df.describe()\n",
    "\n",
    "# Check for value distribution in discrete attibutes\n",
    "strcolumns = ['jobType', 'degree', 'major', 'industry']\n",
    "for check in strcolumns:\n",
    "    df[check].value_counts().to_frame()"
   ]
  },
  {
   "cell_type": "markdown",
   "metadata": {},
   "source": [
    "#### Then we'll check the distribution of the 'salary' attribute."
   ]
  },
  {
   "cell_type": "code",
   "execution_count": 10,
   "metadata": {},
   "outputs": [
    {
     "data": {
      "image/png": "[encoded data removed]",
      "text/plain": [
       "<Figure size 1080x432 with 1 Axes>"
      ]
     },
     "metadata": {
      "needs_background": "light"
     },
     "output_type": "display_data"
    }
   ],
   "source": [
    "# Plot histogram and distribution of the target variable\n",
    "plt.figure(figsize = (15,6))\n",
    "sns.distplot(df['salary'])\n",
    "plt.show();"
   ]
  },
  {
   "cell_type": "markdown",
   "metadata": {},
   "source": [
    "#### The 'salary' attribute seems to be normally distributed.\n",
    "\n",
    "#### We'll then look for correlations between the other attributes and the 'salary' target."
   ]
  },
  {
   "cell_type": "code",
   "execution_count": 11,
   "metadata": {},
   "outputs": [],
   "source": [
    "# Define a function to order Boxplots through 'salary' median\n",
    "def sorted_boxplot(df, xval, yval):\n",
    "    plt.figure(figsize = (15,6))\n",
    "    tempdf = pd.DataFrame({col: vals[yval] for col, vals in df.groupby(xval)})\n",
    "    meds = tempdf.median().sort_values()\n",
    "    sns.boxplot(data = df, x = df[xval], y = yval, order = tempdf[meds.index])  \n",
    "    plt.show()"
   ]
  },
  {
   "cell_type": "code",
   "execution_count": 12,
   "metadata": {},
   "outputs": [
    {
     "data": {
      "image/png": "[encoded data removed]",
      "text/plain": [
       "<Figure size 1080x432 with 1 Axes>"
      ]
     },
     "metadata": {
      "needs_background": "light"
     },
     "output_type": "display_data"
    }
   ],
   "source": [
    "# Plot the 'jobType' vs 'salary' comparison\n",
    "sorted_boxplot(df, xval = 'jobType', yval = 'salary')"
   ]
  },
  {
   "cell_type": "code",
   "execution_count": 13,
   "metadata": {},
   "outputs": [
    {
     "data": {
      "image/png": "[encoded data removed]",
      "text/plain": [
       "<Figure size 1080x432 with 1 Axes>"
      ]
     },
     "metadata": {
      "needs_background": "light"
     },
     "output_type": "display_data"
    }
   ],
   "source": [
    "# Plot the 'degree' vs 'salary' comparison\n",
    "sorted_boxplot(df, xval = 'degree', yval = 'salary')"
   ]
  },
  {
   "cell_type": "markdown",
   "metadata": {},
   "source": [
    "**As we can see, that's a clear relation between high salaries and high degree. That makes sense.**"
   ]
  },
  {
   "cell_type": "code",
   "execution_count": 14,
   "metadata": {},
   "outputs": [
    {
     "data": {
      "image/png": "[encoded data removed]",
      "text/plain": [
       "<Figure size 1080x432 with 1 Axes>"
      ]
     },
     "metadata": {
      "needs_background": "light"
     },
     "output_type": "display_data"
    }
   ],
   "source": [
    "# Plot the 'major' vs 'salary' comparison\n",
    "sorted_boxplot(df, xval = 'major', yval = 'salary')"
   ]
  },
  {
   "cell_type": "markdown",
   "metadata": {},
   "source": [
    "**We can see that professionals without any major clearly have lower salary, in average. Therefore, it's not possible to see any strong correlation between a specific major and highest salaries.**"
   ]
  },
  {
   "cell_type": "code",
   "execution_count": 15,
   "metadata": {},
   "outputs": [
    {
     "data": {
      "image/png": "[encoded data removed]",
      "text/plain": [
       "<Figure size 1080x432 with 1 Axes>"
      ]
     },
     "metadata": {
      "needs_background": "light"
     },
     "output_type": "display_data"
    }
   ],
   "source": [
    "# Plot the 'industry' vs 'salary' comparison\n",
    "sorted_boxplot(df, xval = 'industry', yval = 'salary')"
   ]
  },
  {
   "cell_type": "markdown",
   "metadata": {},
   "source": [
    "**As we can see, Finance and Oil & Gas pays somewhat higher salaries than the other industries.**"
   ]
  },
  {
   "cell_type": "code",
   "execution_count": 16,
   "metadata": {},
   "outputs": [
    {
     "data": {
      "text/html": [
       "<div>\n",
       "<style scoped>\n",
       "    .dataframe tbody tr th:only-of-type {\n",
       "        vertical-align: middle;\n",
       "    }\n",
       "\n",
       "    .dataframe tbody tr th {\n",
       "        vertical-align: top;\n",
       "    }\n",
       "\n",
       "    .dataframe thead th {\n",
       "        text-align: right;\n",
       "    }\n",
       "</style>\n",
       "<table border=\"1\" class=\"dataframe\">\n",
       "  <thead>\n",
       "    <tr style=\"text-align: right;\">\n",
       "      <th></th>\n",
       "      <th>yearsExperience</th>\n",
       "      <th>milesFromMetropolis</th>\n",
       "      <th>salary</th>\n",
       "    </tr>\n",
       "  </thead>\n",
       "  <tbody>\n",
       "    <tr>\n",
       "      <th>yearsExperience</th>\n",
       "      <td>1.000000</td>\n",
       "      <td>0.000672</td>\n",
       "      <td>0.375013</td>\n",
       "    </tr>\n",
       "    <tr>\n",
       "      <th>milesFromMetropolis</th>\n",
       "      <td>0.000672</td>\n",
       "      <td>1.000000</td>\n",
       "      <td>-0.297686</td>\n",
       "    </tr>\n",
       "    <tr>\n",
       "      <th>salary</th>\n",
       "      <td>0.375013</td>\n",
       "      <td>-0.297686</td>\n",
       "      <td>1.000000</td>\n",
       "    </tr>\n",
       "  </tbody>\n",
       "</table>\n",
       "</div>"
      ],
      "text/plain": [
       "                     yearsExperience  milesFromMetropolis    salary\n",
       "yearsExperience             1.000000             0.000672  0.375013\n",
       "milesFromMetropolis         0.000672             1.000000 -0.297686\n",
       "salary                      0.375013            -0.297686  1.000000"
      ]
     },
     "execution_count": 16,
     "metadata": {},
     "output_type": "execute_result"
    }
   ],
   "source": [
    "# Check for correlation between the numerical variables\n",
    "df.corr()"
   ]
  },
  {
   "cell_type": "code",
   "execution_count": 20,
   "metadata": {},
   "outputs": [],
   "source": [
    "# Reduce the Dataset size to decrease training time\n",
    "df = df.sample(frac=0.001)\n",
    "df.shape"
   ]
  },
  {
   "cell_type": "code",
   "execution_count": 22,
   "metadata": {},
   "outputs": [
    {
     "data": {
      "text/html": [
       "<div>\n",
       "<style scoped>\n",
       "    .dataframe tbody tr th:only-of-type {\n",
       "        vertical-align: middle;\n",
       "    }\n",
       "\n",
       "    .dataframe tbody tr th {\n",
       "        vertical-align: top;\n",
       "    }\n",
       "\n",
       "    .dataframe thead th {\n",
       "        text-align: right;\n",
       "    }\n",
       "</style>\n",
       "<table border=\"1\" class=\"dataframe\">\n",
       "  <thead>\n",
       "    <tr style=\"text-align: right;\">\n",
       "      <th></th>\n",
       "      <th>yearsExperience</th>\n",
       "      <th>milesFromMetropolis</th>\n",
       "      <th>salary</th>\n",
       "      <th>jobType_CEO</th>\n",
       "      <th>jobType_CFO</th>\n",
       "      <th>jobType_CTO</th>\n",
       "      <th>jobType_JANITOR</th>\n",
       "      <th>jobType_JUNIOR</th>\n",
       "      <th>jobType_MANAGER</th>\n",
       "      <th>jobType_SENIOR</th>\n",
       "      <th>...</th>\n",
       "      <th>major_MATH</th>\n",
       "      <th>major_NONE</th>\n",
       "      <th>major_PHYSICS</th>\n",
       "      <th>industry_AUTO</th>\n",
       "      <th>industry_EDUCATION</th>\n",
       "      <th>industry_FINANCE</th>\n",
       "      <th>industry_HEALTH</th>\n",
       "      <th>industry_OIL</th>\n",
       "      <th>industry_SERVICE</th>\n",
       "      <th>industry_WEB</th>\n",
       "    </tr>\n",
       "  </thead>\n",
       "  <tbody>\n",
       "    <tr>\n",
       "      <th>466197</th>\n",
       "      <td>16</td>\n",
       "      <td>13</td>\n",
       "      <td>157</td>\n",
       "      <td>0</td>\n",
       "      <td>0</td>\n",
       "      <td>1</td>\n",
       "      <td>0</td>\n",
       "      <td>0</td>\n",
       "      <td>0</td>\n",
       "      <td>0</td>\n",
       "      <td>...</td>\n",
       "      <td>0</td>\n",
       "      <td>0</td>\n",
       "      <td>0</td>\n",
       "      <td>0</td>\n",
       "      <td>1</td>\n",
       "      <td>0</td>\n",
       "      <td>0</td>\n",
       "      <td>0</td>\n",
       "      <td>0</td>\n",
       "      <td>0</td>\n",
       "    </tr>\n",
       "    <tr>\n",
       "      <th>566613</th>\n",
       "      <td>8</td>\n",
       "      <td>49</td>\n",
       "      <td>124</td>\n",
       "      <td>0</td>\n",
       "      <td>0</td>\n",
       "      <td>1</td>\n",
       "      <td>0</td>\n",
       "      <td>0</td>\n",
       "      <td>0</td>\n",
       "      <td>0</td>\n",
       "      <td>...</td>\n",
       "      <td>0</td>\n",
       "      <td>0</td>\n",
       "      <td>0</td>\n",
       "      <td>0</td>\n",
       "      <td>0</td>\n",
       "      <td>0</td>\n",
       "      <td>0</td>\n",
       "      <td>1</td>\n",
       "      <td>0</td>\n",
       "      <td>0</td>\n",
       "    </tr>\n",
       "    <tr>\n",
       "      <th>67919</th>\n",
       "      <td>1</td>\n",
       "      <td>50</td>\n",
       "      <td>51</td>\n",
       "      <td>0</td>\n",
       "      <td>0</td>\n",
       "      <td>0</td>\n",
       "      <td>1</td>\n",
       "      <td>0</td>\n",
       "      <td>0</td>\n",
       "      <td>0</td>\n",
       "      <td>...</td>\n",
       "      <td>0</td>\n",
       "      <td>1</td>\n",
       "      <td>0</td>\n",
       "      <td>0</td>\n",
       "      <td>0</td>\n",
       "      <td>0</td>\n",
       "      <td>0</td>\n",
       "      <td>0</td>\n",
       "      <td>0</td>\n",
       "      <td>1</td>\n",
       "    </tr>\n",
       "    <tr>\n",
       "      <th>388565</th>\n",
       "      <td>13</td>\n",
       "      <td>25</td>\n",
       "      <td>102</td>\n",
       "      <td>1</td>\n",
       "      <td>0</td>\n",
       "      <td>0</td>\n",
       "      <td>0</td>\n",
       "      <td>0</td>\n",
       "      <td>0</td>\n",
       "      <td>0</td>\n",
       "      <td>...</td>\n",
       "      <td>0</td>\n",
       "      <td>0</td>\n",
       "      <td>0</td>\n",
       "      <td>0</td>\n",
       "      <td>1</td>\n",
       "      <td>0</td>\n",
       "      <td>0</td>\n",
       "      <td>0</td>\n",
       "      <td>0</td>\n",
       "      <td>0</td>\n",
       "    </tr>\n",
       "    <tr>\n",
       "      <th>813750</th>\n",
       "      <td>13</td>\n",
       "      <td>80</td>\n",
       "      <td>137</td>\n",
       "      <td>0</td>\n",
       "      <td>0</td>\n",
       "      <td>0</td>\n",
       "      <td>0</td>\n",
       "      <td>0</td>\n",
       "      <td>0</td>\n",
       "      <td>0</td>\n",
       "      <td>...</td>\n",
       "      <td>0</td>\n",
       "      <td>0</td>\n",
       "      <td>0</td>\n",
       "      <td>0</td>\n",
       "      <td>0</td>\n",
       "      <td>0</td>\n",
       "      <td>0</td>\n",
       "      <td>0</td>\n",
       "      <td>0</td>\n",
       "      <td>1</td>\n",
       "    </tr>\n",
       "  </tbody>\n",
       "</table>\n",
       "<p>5 rows × 32 columns</p>\n",
       "</div>"
      ],
      "text/plain": [
       "        yearsExperience  milesFromMetropolis  salary  jobType_CEO  \\\n",
       "466197               16                   13     157            0   \n",
       "566613                8                   49     124            0   \n",
       "67919                 1                   50      51            0   \n",
       "388565               13                   25     102            1   \n",
       "813750               13                   80     137            0   \n",
       "\n",
       "        jobType_CFO  jobType_CTO  jobType_JANITOR  jobType_JUNIOR  \\\n",
       "466197            0            1                0               0   \n",
       "566613            0            1                0               0   \n",
       "67919             0            0                1               0   \n",
       "388565            0            0                0               0   \n",
       "813750            0            0                0               0   \n",
       "\n",
       "        jobType_MANAGER  jobType_SENIOR  ...  major_MATH  major_NONE  \\\n",
       "466197                0               0  ...           0           0   \n",
       "566613                0               0  ...           0           0   \n",
       "67919                 0               0  ...           0           1   \n",
       "388565                0               0  ...           0           0   \n",
       "813750                0               0  ...           0           0   \n",
       "\n",
       "        major_PHYSICS  industry_AUTO  industry_EDUCATION  industry_FINANCE  \\\n",
       "466197              0              0                   1                 0   \n",
       "566613              0              0                   0                 0   \n",
       "67919               0              0                   0                 0   \n",
       "388565              0              0                   1                 0   \n",
       "813750              0              0                   0                 0   \n",
       "\n",
       "        industry_HEALTH  industry_OIL  industry_SERVICE  industry_WEB  \n",
       "466197                0             0                 0             0  \n",
       "566613                0             1                 0             0  \n",
       "67919                 0             0                 0             1  \n",
       "388565                0             0                 0             0  \n",
       "813750                0             0                 0             1  \n",
       "\n",
       "[5 rows x 32 columns]"
      ]
     },
     "execution_count": 22,
     "metadata": {},
     "output_type": "execute_result"
    },
    {
     "data": {
      "text/plain": [
       "7000"
      ]
     },
     "execution_count": 22,
     "metadata": {},
     "output_type": "execute_result"
    }
   ],
   "source": [
    "# We'll hot encode the categorical variables so we can build the model\n",
    "df_train = pd.get_dummies(df)\n",
    "df_train.head()\n",
    "df.size"
   ]
  },
  {
   "cell_type": "markdown",
   "metadata": {},
   "source": [
    "#### As 'milesFromMetropolis' increases, 'salary' decreases. Therefore it's a negative correlation (-0.29).\n",
    "#### As 'yearsExperience' increases, 'salary' also increases. It's a positive correlation (0.37)."
   ]
  },
  {
   "cell_type": "markdown",
   "metadata": {},
   "source": [
    "### Establish a baseline"
   ]
  },
  {
   "cell_type": "markdown",
   "metadata": {},
   "source": [
    "#### Split the data into Train and Test sets."
   ]
  },
  {
   "cell_type": "code",
   "execution_count": 23,
   "metadata": {},
   "outputs": [],
   "source": [
    "X = df_train[df_train.loc[ : , df_train.columns != 'salary'].columns]\n",
    "y = df_train['salary']\n",
    "X_train, X_test, y_train, y_test = train_test_split(X, y, test_size=0.2, random_state=1)"
   ]
  },
  {
   "cell_type": "markdown",
   "metadata": {},
   "source": [
    "#### Initialize and train the Linear Regression Model as we'll use it as baseline."
   ]
  },
  {
   "cell_type": "code",
   "execution_count": 24,
   "metadata": {},
   "outputs": [],
   "source": [
    "lr_model = LinearRegression()\n",
    "lr_model.fit(X_train, y_train);"
   ]
  },
  {
   "cell_type": "markdown",
   "metadata": {},
   "source": [
    "#### Let's view the coeficients:"
   ]
  },
  {
   "cell_type": "code",
   "execution_count": 25,
   "metadata": {},
   "outputs": [
    {
     "name": "stdout",
     "output_type": "stream",
     "text": [
      "[ 1.89391506e+00 -3.49648265e-01 -1.04150559e+12 -1.04150559e+12\n",
      " -1.04150559e+12 -1.04150559e+12 -1.04150559e+12 -1.04150559e+12\n",
      " -1.04150559e+12 -1.04150559e+12  3.05128602e+11  3.05128602e+11\n",
      "  3.05128602e+11  3.05128602e+11  3.05128602e+11  6.58535101e+11\n",
      "  6.58535101e+11  6.58535101e+11  6.58535101e+11  6.58535101e+11\n",
      "  6.58535101e+11  6.58535101e+11  6.58535101e+11  6.58535101e+11\n",
      " -1.18810426e+12 -1.18810426e+12 -1.18810426e+12 -1.18810426e+12\n",
      " -1.18810426e+12 -1.18810426e+12 -1.18810426e+12]\n",
      "1265946151863.574\n"
     ]
    }
   ],
   "source": [
    "# Slope\n",
    "print(lr_model.coef_)\n",
    "# Intercept\n",
    "print(lr_model.intercept_)"
   ]
  },
  {
   "cell_type": "markdown",
   "metadata": {},
   "source": [
    "#### Now let's make the predictions. We'll store them in the 'yhat' object."
   ]
  },
  {
   "cell_type": "code",
   "execution_count": 26,
   "metadata": {},
   "outputs": [
    {
     "name": "stdout",
     "output_type": "stream",
     "text": [
      "The first 5 predictions are:  [ 68.64624023 103.42895508 118.55419922 102.19335938 152.88085938]\n"
     ]
    }
   ],
   "source": [
    "yhat = lr_model.predict(X_train)\n",
    "print('The first 5 predictions are: ', yhat[0:5])"
   ]
  },
  {
   "cell_type": "markdown",
   "metadata": {},
   "source": [
    "#### The mean squared error (MSE) can now be evaluated. MSE will be used along with accuracy and R-squared to evaluate the baseline model and determine if subsequent models have improved over the established baseline."
   ]
  },
  {
   "cell_type": "code",
   "execution_count": 27,
   "metadata": {},
   "outputs": [
    {
     "data": {
      "text/plain": [
       "380.19723577916625"
      ]
     },
     "execution_count": 27,
     "metadata": {},
     "output_type": "execute_result"
    }
   ],
   "source": [
    "mse = mean_squared_error(y_train, yhat)\n",
    "mse"
   ]
  },
  {
   "cell_type": "code",
   "execution_count": 28,
   "metadata": {},
   "outputs": [
    {
     "name": "stdout",
     "output_type": "stream",
     "text": [
      "5-Fold Cross Validation Accuracy (train data): 0.7088765416932074 0.04104007425454257\n"
     ]
    }
   ],
   "source": [
    "# Print accuracy score using 5-fold cross validation\n",
    "scores = cross_val_score(lr_model, X_train, y_train, cv=5)\n",
    "print(\"5-Fold Cross Validation Accuracy (train data):\", (np.mean(scores)), (np.std(scores)))"
   ]
  },
  {
   "cell_type": "code",
   "execution_count": 29,
   "metadata": {},
   "outputs": [
    {
     "data": {
      "image/png": "[encoded data removed]",
      "text/plain": [
       "<Figure size 720x432 with 1 Axes>"
      ]
     },
     "metadata": {
      "needs_background": "light"
     },
     "output_type": "display_data"
    }
   ],
   "source": [
    "# View distribution of actual salaries compared to predicted salaries\n",
    "Title = 'Distribution  Plot of Predicted Value Using Training Data vs Training Data Distribution'\n",
    "DistributionPlot(y_train, yhat, \"Actual Values (Train)\", \"Predicted Values (Train)\", Title)"
   ]
  },
  {
   "cell_type": "code",
   "execution_count": 30,
   "metadata": {},
   "outputs": [],
   "source": [
    "# Store linear regression predictions in variable\n",
    "yhat_test = lr_model.predict(X_test)"
   ]
  },
  {
   "cell_type": "code",
   "execution_count": 31,
   "metadata": {},
   "outputs": [
    {
     "name": "stdout",
     "output_type": "stream",
     "text": [
      "The mean squared error of our test set predicitons is: 442.5887087649107\n"
     ]
    }
   ],
   "source": [
    "# Print MSE of training data\n",
    "print(\"The mean squared error of our test set predicitons is:\", mean_squared_error(y_test, yhat_test))"
   ]
  },
  {
   "cell_type": "markdown",
   "metadata": {},
   "source": [
    "#### The MSE for the training and testing data is very close. "
   ]
  },
  {
   "cell_type": "code",
   "execution_count": 32,
   "metadata": {},
   "outputs": [
    {
     "name": "stdout",
     "output_type": "stream",
     "text": [
      "5-Fold Cross Validation Accuracy (test data): 0.5916014730687442 0.06663788408005532\n"
     ]
    }
   ],
   "source": [
    "# Print accuracy score using 5-fold cross validation\n",
    "scores = cross_val_score(lr_model, X_test, y_test, cv=5)\n",
    "print(\"5-Fold Cross Validation Accuracy (Linear Regressor):\", (np.mean(scores)), (np.std(scores)))"
   ]
  },
  {
   "cell_type": "code",
   "execution_count": 33,
   "metadata": {},
   "outputs": [
    {
     "data": {
      "image/png": "[encoded data removed]",
      "text/plain": [
       "<Figure size 720x432 with 1 Axes>"
      ]
     },
     "metadata": {
      "needs_background": "light"
     },
     "output_type": "display_data"
    }
   ],
   "source": [
    "# View distribution of actual salaries compared to predicted salaries\n",
    "Title='Linear Regressor Prediction vs Actual Values'\n",
    "DistributionPlot(y_test,yhat_test,\"Actual Values (Test)\",\"Predicted Values (Linear)\",Title)"
   ]
  },
  {
   "cell_type": "markdown",
   "metadata": {},
   "source": [
    "#### Distribution, accuracy score, and MSE are not significantly different when comparing the training and testing data."
   ]
  },
  {
   "cell_type": "markdown",
   "metadata": {},
   "source": [
    "#### We'll try to get better MSE through 3 different models:\n",
    "- Logistic Regression\n",
    "- Decision Trees\n",
    "- Random Forest"
   ]
  },
  {
   "cell_type": "code",
   "execution_count": 42,
   "metadata": {},
   "outputs": [
    {
     "data": {
      "text/plain": [
       "LogisticRegression(C=1.0, class_weight=None, dual=False, fit_intercept=True,\n",
       "          intercept_scaling=1, max_iter=100, multi_class='warn',\n",
       "          n_jobs=None, penalty='l2', random_state=None, solver='warn',\n",
       "          tol=0.0001, verbose=0, warm_start=False)"
      ]
     },
     "execution_count": 42,
     "metadata": {},
     "output_type": "execute_result"
    },
    {
     "name": "stdout",
     "output_type": "stream",
     "text": [
      "The first 5 predictions are:  [111 116  98 133 133]\n"
     ]
    },
    {
     "data": {
      "text/plain": [
       "972.75"
      ]
     },
     "execution_count": 42,
     "metadata": {},
     "output_type": "execute_result"
    },
    {
     "name": "stdout",
     "output_type": "stream",
     "text": [
      "5-Fold Cross Validation Accuracy (test data): 0.013925100057175527 0.015525541904901295\n"
     ]
    },
    {
     "data": {
      "image/png": "[encoded data removed]",
      "text/plain": [
       "<Figure size 720x432 with 1 Axes>"
      ]
     },
     "metadata": {
      "needs_background": "light"
     },
     "output_type": "display_data"
    }
   ],
   "source": [
    "lg_model = LogisticRegression()\n",
    "lg_model.fit(X_train, y_train)\n",
    "yhat_lg = lg_model.predict(X_test)\n",
    "print('The first 5 predictions are: ', yhat_lg[0:5])\n",
    "mse_lg = mean_squared_error(y_test, yhat_lg)\n",
    "mse_lg\n",
    "# Print accuracy score using 5-fold cross validation\n",
    "scores = cross_val_score(lg_model, X_test, y_test, cv=5)\n",
    "print(\"5-Fold Cross Validation Accuracy (test data):\", (np.mean(scores)), (np.std(scores)))\n",
    "# View distribution of actual salaries compared to predicted salaries\n",
    "Title='Logistic Regressor Prediction vs Actual Values'\n",
    "DistributionPlot(y_test,yhat_lg,\"Actual Values (Test)\",\"Predicted Values (Log)\",Title)"
   ]
  },
  {
   "cell_type": "code",
   "execution_count": 41,
   "metadata": {},
   "outputs": [
    {
     "data": {
      "text/plain": [
       "RandomForestRegressor(bootstrap=True, criterion='mse', max_depth=None,\n",
       "           max_features='auto', max_leaf_nodes=None,\n",
       "           min_impurity_decrease=0.0, min_impurity_split=None,\n",
       "           min_samples_leaf=1, min_samples_split=2,\n",
       "           min_weight_fraction_leaf=0.0, n_estimators=10, n_jobs=None,\n",
       "           oob_score=False, random_state=None, verbose=0, warm_start=False)"
      ]
     },
     "execution_count": 41,
     "metadata": {},
     "output_type": "execute_result"
    },
    {
     "name": "stdout",
     "output_type": "stream",
     "text": [
      "The first 5 predictions are:  [103.9 115.7 151.8 112.7 150.3]\n"
     ]
    },
    {
     "data": {
      "text/plain": [
       "640.340375"
      ]
     },
     "execution_count": 41,
     "metadata": {},
     "output_type": "execute_result"
    },
    {
     "name": "stdout",
     "output_type": "stream",
     "text": [
      "5-Fold Cross Validation Accuracy (test data): 0.46514999741937907 0.08304699177098213\n"
     ]
    },
    {
     "data": {
      "image/png": "[encoded data removed]",
      "text/plain": [
       "<Figure size 720x432 with 1 Axes>"
      ]
     },
     "metadata": {
      "needs_background": "light"
     },
     "output_type": "display_data"
    }
   ],
   "source": [
    "rf_model = RandomForestRegressor()\n",
    "rf_model.fit(X_train, y_train)\n",
    "yhat_rf = rf_model.predict(X_test)\n",
    "print('The first 5 predictions are: ', yhat_rf[0:5])\n",
    "mse_rf = mean_squared_error(y_test, yhat_rf)\n",
    "mse_rf\n",
    "# Print accuracy score using 5-fold cross validation\n",
    "scores = cross_val_score(rf_model, X_test, y_test, cv=5)\n",
    "print(\"5-Fold Cross Validation Accuracy (Random Forest):\", (np.mean(scores)), (np.std(scores)))\n",
    "# View distribution of actual salaries compared to predicted salaries\n",
    "Title='Random Forest Regressor Prediction vs Actual Values'\n",
    "DistributionPlot(y_test,yhat_rf,\"Actual Values (Test)\",\"Predicted Values (RF)\",Title)"
   ]
  },
  {
   "cell_type": "markdown",
   "metadata": {},
   "source": [
    "## Part 4 - DEPLOY"
   ]
  },
  {
   "cell_type": "code",
   "execution_count": null,
   "metadata": {},
   "outputs": [],
   "source": [
    "#write script that trains model on entire training set, saves model to disk,\n",
    "#and scores the \"test\" dataset"
   ]
  },
  {
   "cell_type": "code",
   "execution_count": null,
   "metadata": {},
   "outputs": [],
   "source": [
    "#save your prediction to a csv file or optionally save them as a table in a SQL database\n",
    "#additionally, you want to save a visualization and summary of your prediction and feature importances\n",
    "#these visualizations and summaries will be extremely useful to business stakeholders"
   ]
  },
  {
   "cell_type": "code",
   "execution_count": null,
   "metadata": {},
   "outputs": [],
   "source": []
  },
  {
   "cell_type": "code",
   "execution_count": null,
   "metadata": {},
   "outputs": [],
   "source": []
  },
  {
   "cell_type": "code",
   "execution_count": null,
   "metadata": {},
   "outputs": [],
   "source": []
  },
  {
   "cell_type": "code",
   "execution_count": null,
   "metadata": {},
   "outputs": [],
   "source": []
  }
 ],
 "metadata": {
  "kernelspec": {
   "display_name": "Python 3",
   "language": "python",
   "name": "python3"
  },
  "language_info": {
   "codemirror_mode": {
    "name": "ipython",
    "version": 3
   },
   "file_extension": ".py",
   "mimetype": "text/x-python",
   "name": "python",
   "nbconvert_exporter": "python",
   "pygments_lexer": "ipython3",
   "version": "3.7.3"
  }
 },
 "nbformat": 4,
 "nbformat_minor": 2
}
